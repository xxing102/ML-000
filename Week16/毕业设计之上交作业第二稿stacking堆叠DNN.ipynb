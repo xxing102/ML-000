{
  "nbformat": 4,
  "nbformat_minor": 0,
  "metadata": {
    "colab": {
      "name": "“毕业设计之上交作业stacking堆叠DNN",
      "provenance": [],
      "collapsed_sections": [],
      "toc_visible": true
    },
    "kernelspec": {
      "name": "python3",
      "display_name": "Python 3"
    },
    "language_info": {
      "name": "python"
    }
  },
  "cells": [
    {
      "cell_type": "code",
      "metadata": {
        "id": "k5xGHzfPIXm8"
      },
      "source": [
        ""
      ],
      "execution_count": null,
      "outputs": []
    },
    {
      "cell_type": "markdown",
      "metadata": {
        "id": "QFeVUfd3Akrn"
      },
      "source": [
        "# stacking堆叠集成DNN"
      ]
    },
    {
      "cell_type": "markdown",
      "metadata": {
        "id": "W_RM-WL1AjhC"
      },
      "source": [
        ""
      ]
    },
    {
      "cell_type": "code",
      "metadata": {
        "id": "ZYpZliBzAfwQ"
      },
      "source": [
        "import pandas as pd\n",
        "import numpy as np\n",
        "import lightgbm as lgb\n",
        "from sklearn.model_selection import KFold\n",
        "from sklearn.metrics import accuracy_score"
      ],
      "execution_count": null,
      "outputs": []
    },
    {
      "cell_type": "code",
      "metadata": {
        "id": "QzFAigJ9I2oL"
      },
      "source": [
        "from tensorflow.keras.utils import to_categorical"
      ],
      "execution_count": null,
      "outputs": []
    },
    {
      "cell_type": "code",
      "metadata": {
        "id": "EFqMwUAhJPaQ"
      },
      "source": [
        "x_temp1 = pd.read_csv('//content//drive//MyDrive//data//train_final.csv', engine='python')\n",
        "x_temp2 = pd.read_csv('//content//drive//MyDrive//data//test_final.csv', engine='python')"
      ],
      "execution_count": null,
      "outputs": []
    },
    {
      "cell_type": "code",
      "metadata": {
        "id": "y-uOkDE6W1Ks"
      },
      "source": [
        "train_DL = x_temp1.copy()\n",
        "test_DL = x_temp2.copy()"
      ],
      "execution_count": null,
      "outputs": []
    },
    {
      "cell_type": "markdown",
      "metadata": {
        "id": "AGXWUm3VHg5X"
      },
      "source": [
        "## "
      ]
    },
    {
      "cell_type": "code",
      "metadata": {
        "id": "L8OfSIEHHPDV"
      },
      "source": [
        "train_SDNN = x_temp1.copy()\n",
        "test_SDNN = x_temp2.copy()\n",
        "train_SDNN.fillna(0,inplace=True)\n",
        "test_SDNN.fillna(0,inplace=True)\n",
        "\n",
        "X_train = train_SDNN.drop(columns=['loan_status']).values\n",
        "Y_train = train_SDNN['loan_status'].values.astype(int)\n",
        "X_test = test_SDNN.drop(columns=['loan_status']).values\n",
        "Y_test = test_SDNN['loan_status'].values.astype(int)\n",
        "\n",
        "from tensorflow.keras.utils import to_categorical\n",
        "#Y_test=to_categorical(Y_test,2).astype(int)\n",
        "#Y_train=to_categorical(Y_train,2).astype(int)\n"
      ],
      "execution_count": null,
      "outputs": []
    },
    {
      "cell_type": "code",
      "metadata": {
        "id": "T2Be0B2zIlL-"
      },
      "source": [
        "import keras as K\n",
        "from keras.layers.core import Dropout\n",
        "init = K.initializers.glorot_uniform(seed=1)\n",
        "model = K.models.Sequential()\n",
        "model.add(K.layers.Dense(units=146, input_dim=2, kernel_initializer=init, activation='relu'))\n",
        "model.add(K.layers.Dense(units=147, kernel_initializer=init, activation='relu'))\n",
        "model.add(K.layers.Dense(units=1, kernel_initializer=init, activation='softmax'))\n",
        "model.compile(loss='categorical_crossentropy',  metrics=['accuracy'])\n"
      ],
      "execution_count": null,
      "outputs": []
    },
    {
      "cell_type": "code",
      "metadata": {
        "id": "_aVLf1s3KfKg"
      },
      "source": [
        "from sklearn.ensemble import GradientBoostingClassifier\n",
        "gdbt_clf = GradientBoostingClassifier(random_state = 20)"
      ],
      "execution_count": null,
      "outputs": []
    },
    {
      "cell_type": "code",
      "metadata": {
        "id": "gzMIHTEPjpB5"
      },
      "source": [
        "from sklearn.ensemble import AdaBoostClassifier\n",
        "ada_clf = AdaBoostClassifier()"
      ],
      "execution_count": null,
      "outputs": []
    },
    {
      "cell_type": "code",
      "metadata": {
        "id": "oqMq1LGSkeyC"
      },
      "source": [
        "from sklearn.naive_bayes import GaussianNB\n",
        "nby_clf = GaussianNB()"
      ],
      "execution_count": null,
      "outputs": []
    },
    {
      "cell_type": "code",
      "metadata": {
        "id": "6AqBjnsFMEkz"
      },
      "source": [
        "from lightgbm import LGBMClassifier\n",
        "lgbm_clf = LGBMClassifier()"
      ],
      "execution_count": null,
      "outputs": []
    },
    {
      "cell_type": "code",
      "metadata": {
        "id": "p7RBXSvJJzOk"
      },
      "source": [
        "from sklearn.model_selection import StratifiedKFold\n",
        "def Stacking(model,train,y,test,n_fold):\n",
        "  folds=StratifiedKFold(n_splits=n_fold,random_state=1)\n",
        "  test_pred=np.empty((test.shape[0],1),float)\n",
        "  train_pred=np.empty((0,1),float)\n",
        "  for train_indices,val_indices in folds.split(train,y.values):\n",
        "    \n",
        "    x_train,x_val=train.iloc[train_indices],train.iloc[val_indices]\n",
        "    y_train,y_val=y.iloc[train_indices],y.iloc[val_indices]\n",
        "\n",
        "    model.fit(X=x_train,y=y_train)\n",
        "    train_pred=np.append(train_pred,model.predict(x_val))\n",
        "    test_pred=np.column_stack((test_pred,model.predict(test)))\n",
        "  test_pred_a=np.mean(test_pred,axis=1) #按行计算均值\n",
        "  return test_pred_a.reshape(-1,1),train_pred\n"
      ],
      "execution_count": null,
      "outputs": []
    },
    {
      "cell_type": "code",
      "metadata": {
        "colab": {
          "base_uri": "https://localhost:8080/"
        },
        "id": "V0GCTd9Dj8dx",
        "outputId": "0917b3f1-c135-4e4e-803e-1d2c4989c8ec"
      },
      "source": [
        "x_train_2=train_SDNN.drop(columns=['loan_status'])\n",
        "x_test_2=test_SDNN.drop(columns=['loan_status'])\n",
        "y_train_2=train_SDNN['loan_status']\n",
        "\n",
        "test_pred3 ,train_pred3 =Stacking(model=ada_clf,n_fold=10,train=x_train,test=x_test,y=y_train)\n",
        "print(test_pred3.size)\n",
        "train_pred3=pd.DataFrame(train_pred3)\n",
        "test_pred3=pd.DataFrame(test_pred3)\n",
        "\n",
        "test_pred4 ,train_pred4 =Stacking(model=nby_clf,n_fold=10,train=x_train,test=x_test,y=y_train)\n",
        "print(test_pred4.size)\n",
        "train_pred4=pd.DataFrame(train_pred4)\n",
        "test_pred4=pd.DataFrame(test_pred4)"
      ],
      "execution_count": null,
      "outputs": [
        {
          "output_type": "stream",
          "text": [
            "/usr/local/lib/python3.7/dist-packages/sklearn/model_selection/_split.py:296: FutureWarning: Setting a random_state has no effect since shuffle is False. This will raise an error in 0.24. You should leave random_state to its default (None), or set shuffle=True.\n",
            "  FutureWarning\n"
          ],
          "name": "stderr"
        },
        {
          "output_type": "stream",
          "text": [
            "50000\n"
          ],
          "name": "stdout"
        },
        {
          "output_type": "stream",
          "text": [
            "/usr/local/lib/python3.7/dist-packages/sklearn/model_selection/_split.py:296: FutureWarning: Setting a random_state has no effect since shuffle is False. This will raise an error in 0.24. You should leave random_state to its default (None), or set shuffle=True.\n",
            "  FutureWarning\n"
          ],
          "name": "stderr"
        },
        {
          "output_type": "stream",
          "text": [
            "50000\n"
          ],
          "name": "stdout"
        }
      ]
    },
    {
      "cell_type": "code",
      "metadata": {
        "id": "8lkaCvHxlBwZ"
      },
      "source": [
        "dff_2 = pd.concat([train_pred3, train_pred4], axis=1)\n",
        "dff_test_2 = pd.concat([test_pred3, test_pred4], axis=1)"
      ],
      "execution_count": null,
      "outputs": []
    },
    {
      "cell_type": "code",
      "metadata": {
        "colab": {
          "base_uri": "https://localhost:8080/"
        },
        "id": "BMjLb7-PlSbb",
        "outputId": "7e2ab673-c0d5-414c-ee40-b7cb87f22e5b"
      },
      "source": [
        "model.fit(dff_2,y_train_2)"
      ],
      "execution_count": null,
      "outputs": [
        {
          "output_type": "stream",
          "text": [
            "1563/1563 [==============================] - 2s 1ms/step - loss: 0.0000e+00 - accuracy: 0.7958\n"
          ],
          "name": "stdout"
        },
        {
          "output_type": "execute_result",
          "data": {
            "text/plain": [
              "<tensorflow.python.keras.callbacks.History at 0x7fa16a308f50>"
            ]
          },
          "metadata": {
            "tags": []
          },
          "execution_count": 143
        }
      ]
    },
    {
      "cell_type": "code",
      "metadata": {
        "colab": {
          "base_uri": "https://localhost:8080/"
        },
        "id": "fCL8VQ0ilUwS",
        "outputId": "bb3e3d70-db44-4215-b321-68a7c0eb7877"
      },
      "source": [
        "eval_2 = model.evaluate(dff_test_2, Y_test, verbose=1)\n",
        "print(\"Evaluation on test data: loss = %0.6f accuracy = %0.2f%% \\n\" \\\n",
        "          % (eval_2[0], eval_2[1] * 100) )"
      ],
      "execution_count": null,
      "outputs": [
        {
          "output_type": "stream",
          "text": [
            "1563/1563 [==============================] - 2s 1ms/step - loss: 0.0000e+00 - accuracy: 0.8045\n",
            "Evaluation on test data: loss = 0.000000 accuracy = 80.45% \n",
            "\n"
          ],
          "name": "stdout"
        }
      ]
    }
  ]
}