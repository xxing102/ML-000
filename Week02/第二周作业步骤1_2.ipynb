{
  "nbformat": 4,
  "nbformat_minor": 0,
  "metadata": {
    "colab": {
      "name": "第一周作业步骤1\\2.ipynb",
      "provenance": [],
      "collapsed_sections": []
    },
    "kernelspec": {
      "name": "python3",
      "display_name": "Python 3"
    }
  },
  "cells": [
    {
      "cell_type": "code",
      "metadata": {
        "id": "ju5O8sfGJsG-"
      },
      "source": [
        "%load_ext Cython"
      ],
      "execution_count": 1,
      "outputs": []
    },
    {
      "cell_type": "code",
      "metadata": {
        "colab": {
          "base_uri": "https://localhost:8080/"
        },
        "id": "GQ4XqZMUKChe",
        "outputId": "24e41b5f-d51a-4dca-e43a-9d8a5c54205d"
      },
      "source": [
        "%%cython\r\n",
        "\r\n",
        "import numpy as np\r\n",
        "import pandas as pd\r\n",
        "cimport numpy as cnp\r\n",
        "import array\r\n",
        "\r\n",
        "y = np.random.randint(2, size=(5000, 1))\r\n",
        "x = np.random.randint(10, size=(5000, 1))\r\n",
        "data = np.concatenate([y, x], axis=1)\r\n",
        "\r\n",
        "result_3 = np.zeros(5000)\r\n",
        "\r\n",
        "cpdef double target_mean_v3(cnp.ndarray[long, ndim=2] data, cnp.ndarray[double, ndim=1] result_3):\r\n",
        "    cdef int n = data.shape[0]\r\n",
        "    cdef dict value = {}\r\n",
        "    cdef dict count = {}\r\n",
        "    #cdef cnp.ndarray[double, ndim=1] result = np.zeros(n) \r\n",
        "    \r\n",
        "    # step1: 统计value和count\r\n",
        "\r\n",
        "    for i in range(n):\r\n",
        "      if data[i, 1] not in value.keys():\r\n",
        "        value[data[i][1]] = data[i][0]\r\n",
        "        count[data[i][1]] = 0\r\n",
        "\r\n",
        "      else:\r\n",
        "        value[data[i][1]] += data[i][0]\r\n",
        "        count[data[i][1]] += 1\r\n",
        "\r\n",
        "    # step2: 算出对应平均值\r\n",
        "    for i in range(n):\r\n",
        "      result_3[i] = (value[data[i, 1]] - data[i, 0])/ (count[data[i, 1]] - 1)\r\n",
        "\r\n",
        "    #result_3 = result\r\n",
        "    \r\n",
        "    print(value)\r\n",
        "    print(count)\r\n",
        "    print(result_3)\r\n",
        "\r\n",
        "target_mean_v3(data, result_3)    \r\n",
        "\r\n",
        "print(result_3)\r\n"
      ],
      "execution_count": 41,
      "outputs": [
        {
          "output_type": "stream",
          "text": [
            "{1: 234, 0: 255, 4: 252, 6: 222, 8: 260, 9: 262, 3: 253, 5: 256, 2: 254, 7: 224}\n",
            "{1: 500, 0: 531, 4: 489, 6: 487, 8: 502, 9: 501, 3: 522, 5: 487, 2: 497, 7: 474}\n",
            "[0.46893788 0.48113208 0.51434426 ... 0.51639344 0.45473251 0.51696607]\n",
            "[0.46893788 0.48113208 0.51434426 ... 0.51639344 0.45473251 0.51696607]\n"
          ],
          "name": "stdout"
        }
      ]
    }
  ]
}