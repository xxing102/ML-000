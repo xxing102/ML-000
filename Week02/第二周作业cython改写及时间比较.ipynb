{
  "nbformat": 4,
  "nbformat_minor": 0,
  "metadata": {
    "colab": {
      "name": "第二周作业cython改写及时间比较.ipynb",
      "provenance": [],
      "collapsed_sections": []
    },
    "kernelspec": {
      "name": "python3",
      "display_name": "Python 3"
    }
  },
  "cells": [
    {
      "cell_type": "code",
      "metadata": {
        "id": "ju5O8sfGJsG-"
      },
      "source": [
        "%load_ext Cython"
      ],
      "execution_count": 1,
      "outputs": []
    },
    {
      "cell_type": "code",
      "metadata": {
        "colab": {
          "base_uri": "https://localhost:8080/"
        },
        "id": "GQ4XqZMUKChe",
        "outputId": "e68551bf-a1af-4d42-ab93-8c009922c8f8"
      },
      "source": [
        "%%cython\r\n",
        "\r\n",
        "import numpy as np\r\n",
        "import pandas as pd\r\n",
        "cimport numpy as cnp\r\n",
        "import array\r\n",
        "\r\n",
        "y = np.random.randint(2, size=(5000, 1))\r\n",
        "x = np.random.randint(10, size=(5000, 1))\r\n",
        "data = np.concatenate([y, x], axis=1)\r\n",
        "\r\n",
        "result_3 = np.zeros(5000)\r\n",
        "\r\n",
        "cpdef double target_mean_v3(cnp.ndarray[long, ndim=2] data, cnp.ndarray[double, ndim=1] result_3):\r\n",
        "    cdef int n = data.shape[0]\r\n",
        "    cdef dict value = {}\r\n",
        "    cdef dict count = {}\r\n",
        "    #cdef cnp.ndarray[double, ndim=1] result = np.zeros(n) \r\n",
        "    \r\n",
        "    # step1: 统计value和count\r\n",
        "\r\n",
        "    for i in range(n):\r\n",
        "      if data[i, 1] not in value.keys():\r\n",
        "        value[data[i][1]] = data[i][0]\r\n",
        "        count[data[i][1]] = 0\r\n",
        "\r\n",
        "      else:\r\n",
        "        value[data[i][1]] += data[i][0]\r\n",
        "        count[data[i][1]] += 1\r\n",
        "\r\n",
        "    # step2: 算出对应平均值\r\n",
        "    for i in range(n):\r\n",
        "      result_3[i] = (value[data[i, 1]] - data[i, 0])/ (count[data[i, 1]] - 1)\r\n",
        "\r\n",
        "    #result_3 = result\r\n",
        "    \r\n",
        "    #print(value)\r\n",
        "    #print(count)\r\n",
        "    #print(result_3)\r\n",
        "\r\n",
        "target_mean_v3(data, result_3)    \r\n",
        "\r\n",
        "print(result_3)\r\n"
      ],
      "execution_count": 12,
      "outputs": [
        {
          "output_type": "stream",
          "text": [
            "[0.46837945 0.51515152 0.53846154 ... 0.49781659 0.46855984 0.4969574 ]\n"
          ],
          "name": "stdout"
        }
      ]
    },
    {
      "cell_type": "code",
      "metadata": {
        "colab": {
          "base_uri": "https://localhost:8080/"
        },
        "id": "-ccFO7prpXFm",
        "outputId": "cf99990d-954e-4847-d1fe-32c5045a8ed0"
      },
      "source": [
        "%%timeit\r\n",
        "target_mean_v3(data, result_3)"
      ],
      "execution_count": 13,
      "outputs": [
        {
          "output_type": "stream",
          "text": [
            "100 loops, best of 3: 14.7 ms per loop\n"
          ],
          "name": "stdout"
        }
      ]
    },
    {
      "cell_type": "code",
      "metadata": {
        "id": "qv2q5x51p0kJ"
      },
      "source": [
        "# coding = 'utf-8'\r\n",
        "import numpy as np\r\n",
        "import pandas as pd\r\n",
        "\r\n",
        "\r\n",
        "def target_mean_v1(data, y_name, x_name):\r\n",
        "    result = np.zeros(data.shape[0])\r\n",
        "    for i in range(data.shape[0]):\r\n",
        "        groupby_result = data[data.index != i].groupby([x_name], as_index=False).agg(['mean', 'count'])\r\n",
        "        \r\n",
        "        result[i] = groupby_result.loc[groupby_result.index == data.loc[i, x_name], (y_name, 'mean')]\r\n",
        "    #print('groupby_result \\n', groupby_result)\r\n",
        "    #print('data[data.index != 1]', data[data.index != 1])\r\n",
        "    return result"
      ],
      "execution_count": 8,
      "outputs": []
    },
    {
      "cell_type": "code",
      "metadata": {
        "colab": {
          "base_uri": "https://localhost:8080/"
        },
        "id": "Ezb9MKkEqsuo",
        "outputId": "6de949cc-2d3c-4339-e1d5-ffc32ae95232"
      },
      "source": [
        "%%timeit\r\n",
        "y = np.random.randint(2, size=(5000, 1))\r\n",
        "x = np.random.randint(10, size=(5000, 1))\r\n",
        "data = pd.DataFrame(np.concatenate([y, x], axis=1), columns=['y', 'x'])\r\n",
        "\r\n",
        "result_1 = target_mean_v1(data, 'y', 'x')"
      ],
      "execution_count": 9,
      "outputs": [
        {
          "output_type": "stream",
          "text": [
            "1 loop, best of 3: 25.6 s per loop\n"
          ],
          "name": "stdout"
        }
      ]
    },
    {
      "cell_type": "code",
      "metadata": {
        "id": "cu5f-VrMsTKw"
      },
      "source": [
        "def target_mean_v2(data, y_name, x_name):\r\n",
        "    result = np.zeros(data.shape[0])\r\n",
        "    value_dict = dict()\r\n",
        "    count_dict = dict()\r\n",
        "    for i in range(data.shape[0]):\r\n",
        "        if data.loc[i, x_name] not in value_dict.keys():\r\n",
        "            value_dict[data.loc[i, x_name]] = data.loc[i, y_name]\r\n",
        "            count_dict[data.loc[i, x_name]] = 1\r\n",
        "        else:\r\n",
        "            value_dict[data.loc[i, x_name]] += data.loc[i, y_name]\r\n",
        "            count_dict[data.loc[i, x_name]] += 1\r\n",
        "    for i in range(data.shape[0]):\r\n",
        "        result[i] = (value_dict[data.loc[i, x_name]] - data.loc[i, y_name]) / (count_dict[data.loc[i, x_name]] - 1)\r\n",
        "    return result"
      ],
      "execution_count": 10,
      "outputs": []
    },
    {
      "cell_type": "code",
      "metadata": {
        "colab": {
          "base_uri": "https://localhost:8080/"
        },
        "id": "nKqHSHG1sXVr",
        "outputId": "e3017761-3db8-438f-a834-fc2f90562aba"
      },
      "source": [
        "%%timeit\r\n",
        "y = np.random.randint(2, size=(5000, 1))\r\n",
        "x = np.random.randint(10, size=(5000, 1))\r\n",
        "data = pd.DataFrame(np.concatenate([y, x], axis=1), columns=['y', 'x'])\r\n",
        "\r\n",
        "result_2 = target_mean_v2(data, 'y', 'x')"
      ],
      "execution_count": 11,
      "outputs": [
        {
          "output_type": "stream",
          "text": [
            "1 loop, best of 3: 276 ms per loop\n"
          ],
          "name": "stdout"
        }
      ]
    }
  ]
}